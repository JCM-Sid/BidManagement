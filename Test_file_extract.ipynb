{
 "cells": [
  {
   "cell_type": "code",
   "execution_count": 6,
   "id": "d8102717",
   "metadata": {},
   "outputs": [
    {
     "name": "stderr",
     "output_type": "stream",
     "text": [
      "c:\\DocPerso\\Dev_Python\\.my_env\\Lib\\site-packages\\pdfquery\\pdfquery.py:475: SyntaxWarning: invalid escape sequence '\\W'\n",
      "  k = re.sub('\\W', '_', k)\n"
     ]
    }
   ],
   "source": [
    "from ollama import Client\n",
    "from pdfquery import PDFQuery\n",
    "import pandas as pd"
   ]
  },
  {
   "cell_type": "code",
   "execution_count": 8,
   "id": "e47d6ebe",
   "metadata": {},
   "outputs": [
    {
     "name": "stdout",
     "output_type": "stream",
     "text": [
      "['Mission de coordination SPS en phase conception et réalisation pour ', 'des opérations de catégorie 2, dans le cadre du programme de ', 'reconstruction des barrages de Barbey et La Brosse. ', 'Département(s) de publication : 77, 89, 10, 51, 02, 60, 95, 91, 45 ', 'Annonce n° 25-45851 ', \"Nom complet de l'acheteur : VOIES NAVIGABLES DE FRANCE \", \"Type de Numéro national d'indentification : SIRET \", \"N° National d'identification : 13001779101412 \", 'Ville : Dijon ', 'Code postal : 21000 ', 'Groupement de commandes : Non ', 'Département(s) de publication : 77, 89, 10, 51, 02, 60, 95, 91, 45 ', 'Section 2 - Communication ', 'Identifiant interne de la consultation : SPS_BARBEY_LAB ', \"Intégralité des documents sur le profil d'acheteur : Oui \", 'Utilisation de moyens de communication non communément disponibles : Non ', 'Nom du contact : Pôle Commande Publique ', 'Adresse mail du contact : Pcp.dt.centrebourgogne@vnf.fr ', 'Section 3 - Procédure ', \"Conditions de participation : - Aptitude à exercer l'activité professionnelle - conditions / moyens de \", 'preuve : ', 'Se référer au règlement de consultation - Capacité économique et financière - conditions / moyens de preuve : ', 'Se référer au règlement de consultation - Capacités techniques et professionnelles - conditions / moyens de ', 'Avis n°AO-2518- ', '2705 ', 'preuve : ', 'Se référer au règlement de consultation ', \"Technique d'achat : Sans objet \", 'Date et heure limite de réception des plis : 17/05/2025 à 17:00 ', 'Présentation des offres par catalogue électronique : Interdite ', 'Réduction du nombre de candidats : Non ', \"Possibilité d'attribution sans négociation : Oui \", \"L'acheteur exige la présentations de variantes : Non \", 'Section 4 - Identification du marché ', 'Intitulé du marché : Mission de coordination SPS en phase conception et réalisation pour des opérations de catégorie 2, dans le ', 'cadre du programme de reconstruction des barrages de Barbey et La Brosse ', 'Code CPV principal - Descripteur principal : 71317210 ', 'Services ', 'Description succincte du marché : Mission de coordination SPS en phase conception et réalisation pour des opérations de catégorie ', '2, dans le cadre du programme de reconstruction des barrages de Barbey et La Brosse ', \"Lieu principal d'exécution du marché : Sites des barrages de Barbey et de Labrosse \", 'Durée du marché (en mois) : 84 ', 'La consultation comporte des tranches : Non ', 'La consultation prévoit une réservation de tout ou partie du marché : ', 'Non ', 'Marché alloti : Non ', 'Section 6 - Informations Complementaires ', 'Visite obligatoire : Non ', 'Autres informations complémentaires : Après examen des offres, le pouvoir adjudicateur engagera des négociations avec tous les ', 'Le pouvoir adjudicateur se réserve la possibilité de confier ultérieurement au titulaire du marché, en application des articles L. 2122- ', '1 et R. 2122-7 du Code de la commande publique, un ou plusieurs nouveaux marchés ayant pour objet la réalisation de prestations ']\n"
     ]
    }
   ],
   "source": [
    "file_name = r\"C:\\Users\\jch_m\\Documents\\DDM\\Modele\\input_data\\AO-2518-27052025-05-02_14-27-391.pdf\"\n",
    "\n",
    "pdf = PDFQuery(file_name)\n",
    "pdf.load()\n",
    "\n",
    "# Use CSS-like selectors to locate the elements\n",
    "text_elements = pdf.pq('LTTextLineHorizontal')\n",
    "\n",
    "# Extract the text from the elements\n",
    "text = [t.text for t in text_elements if t.text != '']\n",
    "\n",
    "print(text)"
   ]
  },
  {
   "cell_type": "code",
   "execution_count": 12,
   "id": "07aa1a29",
   "metadata": {},
   "outputs": [
    {
     "name": "stdout",
     "output_type": "stream",
     "text": [
      "GenerateResponse(model='gemma3:4b', created_at='2025-05-15T17:37:45.9268781Z', done=True, done_reason='stop', total_duration=4228016400, load_duration=32279400, prompt_eval_count=17, prompt_eval_duration=235704100, eval_count=77, eval_duration=3959526800, response='As of today, November 2, 2023, the French Prime Minister is **Gabriel Attal**. \\n\\nYou can always find the most up-to-date information on this and other government positions at:\\n\\n*   **Official Government Website:** [https://www.gouvernement.fr/](https://www.gouvernement.fr/)', context=[105, 2364, 107, 15938, 563, 5633, 506, 7830, 13946, 7079, 236881, 106, 107, 105, 4368, 107, 2205, 529, 3124, 236764, 6243, 236743, 236778, 236764, 236743, 236778, 236771, 236778, 236800, 236764, 506, 7830, 13946, 7079, 563, 5213, 123876, 7058, 514, 84750, 236743, 108, 3048, 740, 2462, 1586, 506, 1346, 872, 236772, 1071, 236772, 1896, 1938, 580, 672, 532, 1032, 3251, 10681, 657, 236787, 108, 236829, 139, 1018, 68734, 6110, 21124, 53121, 870, 2574, 1411, 2769, 236761, 236759, 18601, 17374, 236761, 1145, 236786, 5457, 2574, 1411, 2769, 236761, 236759, 18601, 17374, 236761, 1145, 31004])\n",
      "LLM response:\n",
      " As of today, November 2, 2023, the French Prime Minister is **Gabriel Attal**. \n",
      "\n",
      "You can always find the most up-to-date information on this and other government positions at:\n",
      "\n",
      "*   **Official Government Website:** [https://www.gouvernement.fr/](https://www.gouvernement.fr/)\n"
     ]
    }
   ],
   "source": [
    "from pprint import pprint\n",
    "\n",
    "\n",
    "ollama_url = 'http://localhost:11434'\n",
    "#model_name = 'llama3.1:8b'\n",
    "model_name = 'gemma3:4b'\n",
    "\n",
    "# Get an ollama client\n",
    "llmclient = Client(host=ollama_url)\n",
    "\n",
    "\n",
    "model_options = {\n",
    "    'num_predict': 500,  # max number of tokens to predict\n",
    "    'temperature': 0.1,\n",
    "    'top_p': 0.9,\n",
    "}\n",
    "\n",
    "result = llmclient.generate(model=model_name, prompt='Who is currently the French Prime Minister?', options=model_options)\n",
    "\n",
    "pprint(result, compact=False, sort_dicts=False)\n",
    "\n",
    "print(\"LLM response:\\n\", result['response'])\n"
   ]
  },
  {
   "cell_type": "code",
   "execution_count": null,
   "id": "b97da017",
   "metadata": {},
   "outputs": [
    {
     "name": "stdout",
     "output_type": "stream",
     "text": [
      "GenerateResponse(model='gemma3:4b', created_at='2025-05-15T17:38:31.1146704Z', done=True, done_reason='length', total_duration=41444120800, load_duration=33908600, prompt_eval_count=822, prompt_eval_duration=13710629100, eval_count=500, eval_duration=27699065400, response='```json\\n{\\n  \"entities\": [\\n    {\\n      \"entity\": \"SPS\",\\n      \"category\": \"ORG\"\\n    },\\n    {\\n      \"entity\": \"Barbey\",\\n      \"category\": \"LOC\"\\n    },\\n    {\\n      \"entity\": \"La Brosse\",\\n      \"category\": \"LOC\"\\n    },\\n    {\\n      \"entity\": \"77\",\\n      \"category\": \"AMOUNT\"\\n    },\\n    {\\n      \"entity\": \"89\",\\n      \"category\": \"AMOUNT\"\\n    },\\n    {\\n      \"entity\": \"10\",\\n      \"category\": \"AMOUNT\"\\n    },\\n    {\\n      \"entity\": \"51\",\\n      \"category\": \"AMOUNT\"\\n    },\\n    {\\n      \"entity\": \"02\",\\n      \"category\": \"AMOUNT\"\\n    },\\n    {\\n      \"entity\": \"60\",\\n      \"category\": \"AMOUNT\"\\n    },\\n    {\\n      \"entity\": \"95\",\\n      \"category\": \"AMOUNT\"\\n    },\\n    {\\n      \"entity\": \"91\",\\n      \"category\": \"AMOUNT\"\\n    },\\n    {\\n      \"entity\": \"45\",\\n      \"category\": \"AMOUNT\"\\n    },\\n    {\\n      \"entity\": \"VOIES NAVIGABLES DE FRANCE\",\\n      \"category\": \"ORG\"\\n    },\\n    {\\n      \"entity\": \"SIRET\",\\n      \"category\": \"VALUE\"\\n    },\\n    {\\n      \"entity\": \"13001779101412\",\\n      \"category\": \"AMOUNT\"\\n    },\\n    {\\n      \"entity\": \"Dijon\",\\n      \"category\": \"LOC\"\\n    },\\n    {\\n      \"entity\": \"21000\",\\n      \"category\": \"AMOUNT\"\\n    },\\n    {\\n      \"entity\": \"Pôle Commande Publique\",\\n      \"category\": \"ORG\"\\n    },\\n    {\\n      \"entity\": \"Pcp.dt.centrebourgogne@vnf.fr\",\\n      \"category\": \"VALUE\"\\n    },\\n    {\\n      \"entity\": \"17/05/20', context=[105, 2364, 107, 16716, 236787, 562, 7489, 13186, 563, 3477, 496, 1463, 600, 17230, 531, 614, 13186, 1133, 496, 1589, 568, 107354, 779, 496, 4563, 568, 27008, 779, 614, 6261, 568, 97346, 779, 138, 508, 2460, 568, 54779, 779, 496, 9017, 568, 67975, 236768, 653, 496, 1550, 1520, 5932, 236749, 94684, 496, 3433, 568, 21696, 236768, 1031, 496, 12032, 568, 186954, 236768, 653, 614, 2886, 529, 3273, 568, 162558, 236768, 236743, 107, 6804, 236787, 8430, 784, 7489, 20880, 6950, 699, 506, 2269, 1816, 532, 47680, 1091, 1131, 506, 12669, 5221, 2787, 236761, 236743, 107, 532, 54229, 602, 506, 1354, 528, 496, 10434, 6518, 607, 506, 2269, 13272, 236787, 756, 47792, 236789, 532, 756, 1005, 6748, 236743, 107, 74374, 569, 26937, 150771, 696, 5420, 36377, 1008, 111923, 2637, 853, 115693, 569, 82077, 236743, 236778, 236764, 2880, 674, 42432, 1747, 12107, 569, 32993, 853, 33199, 1283, 569, 19116, 1072, 1008, 2774, 35262, 561, 236761, 157769, 236769, 236751, 236768, 569, 14314, 1017, 236743, 236832, 236832, 236764, 236743, 236828, 236819, 236764, 236743, 236770, 236771, 236764, 236743, 236810, 236770, 236764, 236743, 236771, 236778, 236764, 236743, 236825, 236771, 236764, 236743, 236819, 236810, 236764, 236743, 236819, 236770, 236764, 236743, 236812, 236810, 7657, 20073, 538, 237366, 236743, 236778, 236810, 236772, 236812, 236810, 236828, 236810, 236770, 29485, 3076, 569, 537, 236789, 224701, 1017, 59054, 11490, 30362, 2996, 86665, 4216, 160787, 9250, 569, 26886, 23650, 4559, 513, 236789, 32699, 2540, 1017, 24732, 30061, 646, 237366, 4025, 513, 236789, 103577, 1017, 236743, 236770, 236800, 236771, 236771, 236770, 236832, 236832, 236819, 236770, 236771, 236770, 236812, 236770, 236778, 80677, 1017, 186650, 8739, 49075, 1017, 236743, 236778, 236770, 236771, 236771, 236771, 6308, 1155, 569, 127563, 1017, 10645, 157769, 236769, 236751, 236768, 569, 14314, 1017, 236743, 236832, 236832, 236764, 236743, 236828, 236819, 236764, 236743, 236770, 236771, 236764, 236743, 236810, 236770, 236764, 236743, 236771, 236778, 236764, 236743, 236825, 236771, 236764, 236743, 236819, 236810, 236764, 236743, 236819, 236770, 236764, 236743, 236812, 236810, 7371, 236743, 236778, 753, 30021, 18001, 100237, 55352, 569, 759, 22388, 1017, 150771, 236779, 21240, 236799, 6594, 236779, 29260, 4333, 236859, 1568, 514, 5009, 853, 9413, 1270, 674, 50861, 513, 236789, 224701, 1017, 74103, 31665, 5305, 569, 63582, 569, 7283, 1908, 204072, 40408, 1017, 10645, 29485, 1747, 3662, 1017, 593, 28433, 2363, 12188, 8898, 23161, 96890, 10658, 1747, 3662, 1017, 593, 11725, 236761, 9438, 236761, 77882, 57837, 72306, 236940, 27698, 236760, 236761, 1145, 7371, 236743, 236800, 753, 18860, 5870, 694, 32288, 569, 15430, 1017, 753, 110339, 4637, 1608, 185151, 537, 236789, 68702, 112766, 753, 3439, 965, 63582, 569, 110071, 1017, 1339, 113021, 32220, 3229, 126468, 569, 22388, 753, 6395, 77291, 87273, 1008, 160481, 753, 3439, 965, 63582, 569, 110071, 1017, 1339, 113021, 32220, 3229, 126468, 569, 22388, 753, 91501, 15182, 8403, 1008, 8308, 82878, 753, 3439, 965, 63582, 569, 86917, 538, 237366, 70713, 236772, 236778, 236810, 236770, 236828, 236772, 236743, 236778, 236832, 236771, 236810, 110071, 1017, 1339, 113021, 32220, 3229, 126468, 569, 22388, 82068, 513, 236789, 73802, 1017, 11867, 13050, 6809, 1008, 55691, 55844, 569, 133820, 853, 183283, 1017, 236743, 236770, 236832, 236786, 236771, 236810, 236786, 236778, 236771, 236778, 236810, 1608, 236743, 236770, 236832, 236787, 236771, 236771, 91306, 113027, 853, 121747, 944, 45808, 126912, 1017, 4471, 236753, 785, 28537, 6865, 1747, 9062, 569, 176040, 1017, 10645, 31478, 37713, 513, 236789, 187054, 7139, 69859, 35173, 1017, 74103, 639, 236789, 224701, 97774, 759, 23731, 847, 569, 201689, 1017, 10645, 7371, 236743, 236812, 753, 53836, 1747, 51253, 4333, 58757, 236859, 1747, 51253, 1017, 23865, 569, 26937, 150771, 696, 5420, 36377, 1008, 111923, 2637, 853, 115693, 569, 82077, 236743, 236778, 236764, 2880, 674, 42432, 1747, 12107, 569, 32993, 853, 33199, 1283, 569, 19116, 1072, 1008, 2774, 35262, 561, 8739, 23752, 236847, 7647, 753, 45036, 4124, 51896, 7647, 1017, 236743, 236832, 236770, 236800, 236770, 236832, 236778, 236770, 236771, 8381, 17243, 126446, 236744, 1747, 51253, 1017, 23865, 569, 26937, 150771, 696, 5420, 36377, 1008, 111923, 2637, 853, 115693, 569, 82077, 236743, 236778, 236764, 2880, 674, 42432, 1747, 12107, 569, 32993, 853, 33199, 1283, 569, 19116, 1072, 1008, 2774, 35262, 561, 200374, 7647, 513, 236789, 154498, 1747, 51253, 1017, 63558, 853, 33199, 1283, 569, 19116, 1072, 1008, 569, 10201, 58648, 15933, 3190, 1747, 51253, 568, 501, 27849, 236768, 1017, 236743, 236828, 236812, 2774, 22388, 142374, 853, 719, 12784, 1017, 10645, 2774, 22388, 221413, 3037, 88750, 569, 9966, 3349, 19776, 1747, 51253, 1017, 10645, 5261, 236859, 784, 6099, 1017, 10645, 7371, 236743, 236825, 753, 82849, 112921, 8303, 9159, 785, 118951, 1017, 10645, 203479, 31876, 167839, 1017, 53711, 66903, 853, 121747, 236764, 674, 43156, 50124, 10982, 556, 47444, 1741, 853, 220659, 847, 4902, 13776, 1640, 1834, 43156, 50124, 10982, 556, 636, 120494, 759, 86756, 569, 2127, 1099, 6506, 25598, 658, 3229, 6456, 31308, 1747, 51253, 236764, 696, 3739, 853, 10308, 639, 236761, 236743, 236778, 236770, 236778, 236778, 236772, 236743, 236770, 1008, 630, 236761, 236743, 236778, 236770, 236778, 236778, 236772, 236832, 1747, 8739, 569, 759, 50766, 80095, 236764, 723, 3349, 23158, 60162, 148656, 42777, 2637, 13050, 759, 111923, 569, 145124, 236743, 106, 107, 105, 4368, 107, 2717, 3723, 107, 236782, 107, 138, 236775, 47792, 1083, 870, 107, 140, 236782, 107, 142, 236775, 11128, 1083, 623, 236773, 4502, 827, 107, 142, 236775, 10618, 1083, 623, 97346, 236775, 107, 140, 1263, 107, 140, 236782, 107, 142, 236775, 11128, 1083, 623, 5015, 42682, 827, 107, 142, 236775, 10618, 1083, 623, 27008, 236775, 107, 140, 1263, 107, 140, 236782, 107, 142, 236775, 11128, 1083, 623, 4967, 35262, 561, 827, 107, 142, 236775, 10618, 1083, 623, 27008, 236775, 107, 140, 1263, 107, 140, 236782, 107, 142, 236775, 11128, 1083, 623, 236832, 236832, 827, 107, 142, 236775, 10618, 1083, 623, 162558, 236775, 107, 140, 1263, 107, 140, 236782, 107, 142, 236775, 11128, 1083, 623, 236828, 236819, 827, 107, 142, 236775, 10618, 1083, 623, 162558, 236775, 107, 140, 1263, 107, 140, 236782, 107, 142, 236775, 11128, 1083, 623, 236770, 236771, 827, 107, 142, 236775, 10618, 1083, 623, 162558, 236775, 107, 140, 1263, 107, 140, 236782, 107, 142, 236775, 11128, 1083, 623, 236810, 236770, 827, 107, 142, 236775, 10618, 1083, 623, 162558, 236775, 107, 140, 1263, 107, 140, 236782, 107, 142, 236775, 11128, 1083, 623, 236771, 236778, 827, 107, 142, 236775, 10618, 1083, 623, 162558, 236775, 107, 140, 1263, 107, 140, 236782, 107, 142, 236775, 11128, 1083, 623, 236825, 236771, 827, 107, 142, 236775, 10618, 1083, 623, 162558, 236775, 107, 140, 1263, 107, 140, 236782, 107, 142, 236775, 11128, 1083, 623, 236819, 236810, 827, 107, 142, 236775, 10618, 1083, 623, 162558, 236775, 107, 140, 1263, 107, 140, 236782, 107, 142, 236775, 11128, 1083, 623, 236819, 236770, 827, 107, 142, 236775, 10618, 1083, 623, 162558, 236775, 107, 140, 1263, 107, 140, 236782, 107, 142, 236775, 11128, 1083, 623, 236812, 236810, 827, 107, 142, 236775, 10618, 1083, 623, 162558, 236775, 107, 140, 1263, 107, 140, 236782, 107, 142, 236775, 11128, 1083, 623, 23124, 11490, 30362, 2996, 86665, 4216, 160787, 827, 107, 142, 236775, 10618, 1083, 623, 97346, 236775, 107, 140, 1263, 107, 140, 236782, 107, 142, 236775, 11128, 1083, 623, 5491, 30061, 827, 107, 142, 236775, 10618, 1083, 623, 22009, 236775, 107, 140, 1263, 107, 140, 236782, 107, 142, 236775, 11128, 1083, 623, 236770, 236800, 236771, 236771, 236770, 236832, 236832, 236819, 236770, 236771, 236770, 236812, 236770, 236778, 827, 107, 142, 236775, 10618, 1083, 623, 162558, 236775, 107, 140, 1263, 107, 140, 236782, 107, 142, 236775, 11128, 1083, 623, 100492, 498, 827, 107, 142, 236775, 10618, 1083, 623, 27008, 236775, 107, 140, 1263, 107, 140, 236782, 107, 142, 236775, 11128, 1083, 623, 236778, 236770, 236771, 236771, 236771, 827, 107, 142, 236775, 10618, 1083, 623, 162558, 236775, 107, 140, 1263, 107, 140, 236782, 107, 142, 236775, 11128, 1083, 623, 236791, 28433, 2363, 12188, 8898, 23161, 827, 107, 142, 236775, 10618, 1083, 623, 97346, 236775, 107, 140, 1263, 107, 140, 236782, 107, 142, 236775, 11128, 1083, 623, 236791, 11725, 236761, 9438, 236761, 77882, 57837, 72306, 236940, 27698, 236760, 236761, 1145, 827, 107, 142, 236775, 10618, 1083, 623, 22009, 236775, 107, 140, 1263, 107, 140, 236782, 107, 142, 236775, 11128, 1083, 623, 236770, 236832, 236786, 236771, 236810, 236786, 236778, 236771])\n",
      "LLM response:\n",
      " ```json\n",
      "{\n",
      "  \"entities\": [\n",
      "    {\n",
      "      \"entity\": \"SPS\",\n",
      "      \"category\": \"ORG\"\n",
      "    },\n",
      "    {\n",
      "      \"entity\": \"Barbey\",\n",
      "      \"category\": \"LOC\"\n",
      "    },\n",
      "    {\n",
      "      \"entity\": \"La Brosse\",\n",
      "      \"category\": \"LOC\"\n",
      "    },\n",
      "    {\n",
      "      \"entity\": \"77\",\n",
      "      \"category\": \"AMOUNT\"\n",
      "    },\n",
      "    {\n",
      "      \"entity\": \"89\",\n",
      "      \"category\": \"AMOUNT\"\n",
      "    },\n",
      "    {\n",
      "      \"entity\": \"10\",\n",
      "      \"category\": \"AMOUNT\"\n",
      "    },\n",
      "    {\n",
      "      \"entity\": \"51\",\n",
      "      \"category\": \"AMOUNT\"\n",
      "    },\n",
      "    {\n",
      "      \"entity\": \"02\",\n",
      "      \"category\": \"AMOUNT\"\n",
      "    },\n",
      "    {\n",
      "      \"entity\": \"60\",\n",
      "      \"category\": \"AMOUNT\"\n",
      "    },\n",
      "    {\n",
      "      \"entity\": \"95\",\n",
      "      \"category\": \"AMOUNT\"\n",
      "    },\n",
      "    {\n",
      "      \"entity\": \"91\",\n",
      "      \"category\": \"AMOUNT\"\n",
      "    },\n",
      "    {\n",
      "      \"entity\": \"45\",\n",
      "      \"category\": \"AMOUNT\"\n",
      "    },\n",
      "    {\n",
      "      \"entity\": \"VOIES NAVIGABLES DE FRANCE\",\n",
      "      \"category\": \"ORG\"\n",
      "    },\n",
      "    {\n",
      "      \"entity\": \"SIRET\",\n",
      "      \"category\": \"VALUE\"\n",
      "    },\n",
      "    {\n",
      "      \"entity\": \"13001779101412\",\n",
      "      \"category\": \"AMOUNT\"\n",
      "    },\n",
      "    {\n",
      "      \"entity\": \"Dijon\",\n",
      "      \"category\": \"LOC\"\n",
      "    },\n",
      "    {\n",
      "      \"entity\": \"21000\",\n",
      "      \"category\": \"AMOUNT\"\n",
      "    },\n",
      "    {\n",
      "      \"entity\": \"Pôle Commande Publique\",\n",
      "      \"category\": \"ORG\"\n",
      "    },\n",
      "    {\n",
      "      \"entity\": \"Pcp.dt.centrebourgogne@vnf.fr\",\n",
      "      \"category\": \"VALUE\"\n",
      "    },\n",
      "    {\n",
      "      \"entity\": \"17/05/20\n"
     ]
    }
   ],
   "source": [
    "prompt_def = \"Definition: A named entity is either a name that refers to an entity like a person (PERSON), a location (LOC), an organization (ORG),  an event (EVENT), a mission (MISSION) or a value expersionn denoting a date (DATE), a duration (DURATION), an ID (ID) or an amount of money (AMOUNT) \\n\"\n",
    "prompt_task = \"Task: extract all named entities mentioned from the following text and classify them into the categories defined above. \\n and retrun the result in a JSON format with the following keys: 'entities' and 'text'. \\n\"\n",
    "\n",
    "prompt_full = prompt_def + prompt_task + \"\".join(text)\n",
    "result = llmclient.generate(model=model_name, prompt=prompt_full, options=model_options)\n",
    "\n",
    "pprint(result, compact=False, sort_dicts=False)\n",
    "\n",
    "print(\"LLM response:\\n\", result['response'])"
   ]
  }
 ],
 "metadata": {
  "kernelspec": {
   "display_name": ".my_env",
   "language": "python",
   "name": "python3"
  },
  "language_info": {
   "codemirror_mode": {
    "name": "ipython",
    "version": 3
   },
   "file_extension": ".py",
   "mimetype": "text/x-python",
   "name": "python",
   "nbconvert_exporter": "python",
   "pygments_lexer": "ipython3",
   "version": "3.13.3"
  }
 },
 "nbformat": 4,
 "nbformat_minor": 5
}
