{
 "cells": [
  {
   "cell_type": "code",
   "execution_count": 21,
   "id": "95963ba0",
   "metadata": {},
   "outputs": [
    {
     "name": "stdout",
     "output_type": "stream",
     "text": [
      "\n",
      " ***** ID:no EBP 13 statut_consult: Perdu ***** \n",
      "Ville:ST NAZAIRE  Entreprise:SONADEV  Mission:CONSTRUCTION GROUPE SCOLAIRE\n",
      " ===================== gemma2:9b ==========================\n",
      "Doc type: CCTP\n"
     ]
    },
    {
     "data": {
      "text/html": [
       "<a href=\"file:///C:/Users/jch_m/ATAE/Cyrille CHARTIER - CYRILLE/00-DEVIS/2024/00-Echec 2024/ST NAZAIRE - SONADEV - CONSTRUCTION GROUPE SCOLAIRE/Consultation/CCTP CSPS.pdf\">C:\\Users\\jch_m\\ATAE\\Cyrille CHARTIER - CYRILLE\\00-DEVIS\\2024\\00-Echec 2024\\ST NAZAIRE - SONADEV - CONSTRUCTION GROUPE SCOLAIRE\\Consultation\\CCTP CSPS.pdf</a>"
      ],
      "text/plain": [
       "<IPython.core.display.HTML object>"
      ]
     },
     "metadata": {},
     "output_type": "display_data"
    },
    {
     "name": "stdout",
     "output_type": "stream",
     "text": [
      "\n",
      "LLM response pour resumer: in 513s\n",
      "\n",
      "LLM response pour JSON: in 60s\n",
      "{\n",
      "  \"Nom Chantier\": \"Groupe scolaire Jean Zay\",\n",
      "  \"Lieu du Chantier\": \"Saint Nazaire\",\n",
      "  \"Maitre ouvrage\": \"SONADEV TERRITOIRES PUBLICS\",\n",
      "  \"Maitre oeuvre\": \"Groupement de Conception Réalisation\",\n",
      "  \"Type de Travaux\": \"Amenagement, construction\",\n",
      "  \"Planning phase conception\": \"Début : 12-juin-25, Durée: 85 jours\",\n",
      "  \"Planning phase realisation\": \"Début : 4-mars-26, Durée: Non spécifiée\",\n",
      "  \"Prix des travaux\": 0,\n",
      "  \"Duree des travaux\": 0,\n",
      "  \"Categorie operation SPS\": \"II ou III\"\n",
      "}\n",
      "Doc type: AAPC\n"
     ]
    },
    {
     "data": {
      "text/html": [
       "<a href=\"file:///C:/Users/jch_m/ATAE/Cyrille CHARTIER - CYRILLE/00-DEVIS/2024/00-Echec 2024/ST NAZAIRE - SONADEV - CONSTRUCTION GROUPE SCOLAIRE/Consultation/AAPC.pdf\">C:\\Users\\jch_m\\ATAE\\Cyrille CHARTIER - CYRILLE\\00-DEVIS\\2024\\00-Echec 2024\\ST NAZAIRE - SONADEV - CONSTRUCTION GROUPE SCOLAIRE\\Consultation\\AAPC.pdf</a>"
      ],
      "text/plain": [
       "<IPython.core.display.HTML object>"
      ]
     },
     "metadata": {},
     "output_type": "display_data"
    },
    {
     "name": "stdout",
     "output_type": "stream",
     "text": [
      "\n",
      "LLM response pour resumer: in 86s\n",
      "\n",
      "LLM response pour JSON: in 25s\n",
      "{\n",
      "  \"Mission\": \"\",\n",
      "  \"Lieu du Chantier\": \"\",\n",
      "  \"Maitre ouvrage\": \"\",\n",
      "  \"Lot\": \"\",\n",
      "  \"Tranche\": \"\",\n",
      "  \"Prix des travaux\": 0,\n",
      "  \"Duree des travaux\": 0\n",
      "}\n",
      "Doc type: Reglement\n"
     ]
    },
    {
     "data": {
      "text/html": [
       "<a href=\"file:///C:/Users/jch_m/ATAE/Cyrille CHARTIER - CYRILLE/00-DEVIS/2024/00-Echec 2024/ST NAZAIRE - SONADEV - CONSTRUCTION GROUPE SCOLAIRE/Consultation/RC CSPS.pdf\">C:\\Users\\jch_m\\ATAE\\Cyrille CHARTIER - CYRILLE\\00-DEVIS\\2024\\00-Echec 2024\\ST NAZAIRE - SONADEV - CONSTRUCTION GROUPE SCOLAIRE\\Consultation\\RC CSPS.pdf</a>"
      ],
      "text/plain": [
       "<IPython.core.display.HTML object>"
      ]
     },
     "metadata": {},
     "output_type": "display_data"
    },
    {
     "name": "stdout",
     "output_type": "stream",
     "text": [
      "\n",
      "LLM response pour resumer: in 758s\n",
      "\n",
      "LLM response pour JSON: in 26s\n",
      "{\n",
      "  \"Critere Prix\": 0,\n",
      "  \"Critere Technique\": {\n",
      "    \"Moyen Humain et Experience\": 0,\n",
      "    \"Methodologie\": 0,\n",
      "    \"Cohérence du temps\": 0,\n",
      "    \"Compréhension des enjeux\": 0\n",
      "  },\n",
      "  \"Prix des travaux\": 0,\n",
      "  \"Duree des travaux\": 0\n",
      "}\n",
      " ===================== llama3.1:8b ==========================\n",
      "Doc type: CCTP\n"
     ]
    },
    {
     "data": {
      "text/html": [
       "<a href=\"file:///C:/Users/jch_m/ATAE/Cyrille CHARTIER - CYRILLE/00-DEVIS/2024/00-Echec 2024/ST NAZAIRE - SONADEV - CONSTRUCTION GROUPE SCOLAIRE/Consultation/CCTP CSPS.pdf\">C:\\Users\\jch_m\\ATAE\\Cyrille CHARTIER - CYRILLE\\00-DEVIS\\2024\\00-Echec 2024\\ST NAZAIRE - SONADEV - CONSTRUCTION GROUPE SCOLAIRE\\Consultation\\CCTP CSPS.pdf</a>"
      ],
      "text/plain": [
       "<IPython.core.display.HTML object>"
      ]
     },
     "metadata": {},
     "output_type": "display_data"
    },
    {
     "name": "stdout",
     "output_type": "stream",
     "text": [
      "\n",
      "LLM response pour resumer: in 514s\n",
      "\n",
      "LLM response pour JSON: in 143s\n",
      "{\n",
      "  \"Nom Chantier\": \"Groupe scolaire Jean Zay\",\n",
      "  \"Lieu du Chantier\": \"Ville de Saint Nazaire, Commune non spécifiée, Département non\n",
      "spécifié, Rue non spécifiée\",\n",
      "  \"Maitre ouvrage\": \"SonaDev Territoires Publics\",\n",
      "  \"Maitre oeuvre\": \"Non spécifié\",\n",
      "  \"Type de Travaux\": \"Construction d'un groupe scolaire, d'un multi accueil et d'un\n",
      "plateau sportif\",\n",
      "  \"Planning phase conception\": [\n",
      "    {\"Date\": \"12-juin-25\", \"Heure\": \"18h00\", \"Description\": \"Visite du site avec\n",
      "candidats\"},\n",
      "    {\"Date\": \"5-sept.-25\", \"Heure\": \"85h00\", \"Description\": \"Etablissement des offres\n",
      "APS\"},\n",
      "    {\"Date\": \"10-oct.-25\", \"Heure\": \"35h00\", \"Description\": \"Analyse des APS par équipe\n",
      "technique\"},\n",
      "    {\"Date\": \"15-oct.-25\", \"Heure\": \"5h00\", \"Description\": \"Réunion de travail 1\"},\n",
      "    {\"Date\": \"16-oct.-25\", \"Heure\": \"6h00\", \"Description\": \"Direction de projet\"},\n",
      "    {\"Date\": \"20-oct.-25\", \"Heure\": \"4h00\", \"Description\": \"Courrier engagement dialogue\n",
      "questions/réponses\"},\n",
      "    {\"Date\": \"9-déc.-25\", \"Heure\": \"50h00\", \"Description\": \"Dialogue candidats -\n",
      "auditions\"},\n",
      "    {\"Date\": \"14-déc.-25\", \"Heure\": \"5h00\", \"Description\": \"Courrier aux candidats\n",
      "engagement APS modifiés\"},\n",
      "    {\"Date\": \"13-janv.-26\", \"Heure\": \"30h00\", \"Description\": \"Etablissement des APS\n",
      "modifiés\"},\n",
      "    {\"Date\": \"28-janv.-26\", \"Heure\": \"15h00\", \"Description\": \"Analyse des APS modifiés par\n",
      "équipe technique\"},\n",
      "    {\"Date\": \"1-févr.-26\", \"Heure\": \"4h00\", \"Description\": \"Courrier engagement dialogue\n",
      "questions/réponses\"},\n",
      "    {\"Date\": \"6-févr.-26\", \"Heure\": \"5h00\", \"Description\": \"Dialogue candidats -\n",
      "auditions\"},\n",
      "    {\"Date\": \"11-févr.-26\", \"Heure\": \"5h00\", \"Description\": \"Réunion de travail 1\"},\n",
      "    {\"Date\": \"13-févr.-26\", \"Heure\": \"2h00\", \"Description\": \"Direction de projet\"},\n",
      "    {\"Date\": \"17-févr.-26\", \"Heure\": \"4h00\", \"Description\": \"JURY\"},\n",
      "    {\"Date\": \"19-févr.-26\", \"Heure\": \"2h00\", \"Description\": \"CAO sélection groupement CR\n",
      "lauréat\"},\n",
      "    {\"Date\": \"1-mars-26\", \"Heure\": \"10h00\", \"Description\": \"Mise au point du marché CR\"},\n",
      "    {\"Date\": \"4-mars-26\", \"Heure\": \"3h00\", \"Description\": \"Notification du marché CR\"}\n",
      "  ],\n",
      "  \"Planning phase realisation\": \"\",\n",
      "  \"Prix des travaux\": 0,\n",
      "  \"Duree des travaux\": 0,\n",
      "  \"Categorie operation SPS\": \"II ou III\"\n",
      "}\n",
      "Doc type: AAPC\n"
     ]
    },
    {
     "data": {
      "text/html": [
       "<a href=\"file:///C:/Users/jch_m/ATAE/Cyrille CHARTIER - CYRILLE/00-DEVIS/2024/00-Echec 2024/ST NAZAIRE - SONADEV - CONSTRUCTION GROUPE SCOLAIRE/Consultation/AAPC.pdf\">C:\\Users\\jch_m\\ATAE\\Cyrille CHARTIER - CYRILLE\\00-DEVIS\\2024\\00-Echec 2024\\ST NAZAIRE - SONADEV - CONSTRUCTION GROUPE SCOLAIRE\\Consultation\\AAPC.pdf</a>"
      ],
      "text/plain": [
       "<IPython.core.display.HTML object>"
      ]
     },
     "metadata": {},
     "output_type": "display_data"
    },
    {
     "name": "stdout",
     "output_type": "stream",
     "text": [
      "\n",
      "LLM response pour resumer: in 78s\n",
      "\n",
      "LLM response pour JSON: in 23s\n",
      "{\n",
      "  \"Mission\": \"\",\n",
      "  \"Lieu du Chantier\": \"\",\n",
      "  \"Maitre ouvrage\": \"\",\n",
      "  \"Lot\": \"\",\n",
      "  \"Tranche\": \"\",\n",
      "  \"Prix des travaux\": 0,\n",
      "  \"Duree des travaux\": 0\n",
      "}\n",
      "Doc type: Reglement\n"
     ]
    },
    {
     "data": {
      "text/html": [
       "<a href=\"file:///C:/Users/jch_m/ATAE/Cyrille CHARTIER - CYRILLE/00-DEVIS/2024/00-Echec 2024/ST NAZAIRE - SONADEV - CONSTRUCTION GROUPE SCOLAIRE/Consultation/RC CSPS.pdf\">C:\\Users\\jch_m\\ATAE\\Cyrille CHARTIER - CYRILLE\\00-DEVIS\\2024\\00-Echec 2024\\ST NAZAIRE - SONADEV - CONSTRUCTION GROUPE SCOLAIRE\\Consultation\\RC CSPS.pdf</a>"
      ],
      "text/plain": [
       "<IPython.core.display.HTML object>"
      ]
     },
     "metadata": {},
     "output_type": "display_data"
    },
    {
     "name": "stdout",
     "output_type": "stream",
     "text": [
      "\n",
      "LLM response pour resumer: in 649s\n",
      "\n",
      "LLM response pour JSON: in 41s\n",
      "{\n",
      "  \"Critere Prix\": 30,\n",
      "  \"Critere Technique\": {\n",
      "    \"Moyen Humain et Experience\": 15,\n",
      "    \"Methodologie\": 20\n",
      "  },\n",
      "  \"Prix des travaux\": 0,\n",
      "  \"Duree des travaux\": 0\n",
      "}\n",
      " ===================== llama3.2:latest ==========================\n",
      "Doc type: CCTP\n"
     ]
    },
    {
     "data": {
      "text/html": [
       "<a href=\"file:///C:/Users/jch_m/ATAE/Cyrille CHARTIER - CYRILLE/00-DEVIS/2024/00-Echec 2024/ST NAZAIRE - SONADEV - CONSTRUCTION GROUPE SCOLAIRE/Consultation/CCTP CSPS.pdf\">C:\\Users\\jch_m\\ATAE\\Cyrille CHARTIER - CYRILLE\\00-DEVIS\\2024\\00-Echec 2024\\ST NAZAIRE - SONADEV - CONSTRUCTION GROUPE SCOLAIRE\\Consultation\\CCTP CSPS.pdf</a>"
      ],
      "text/plain": [
       "<IPython.core.display.HTML object>"
      ]
     },
     "metadata": {},
     "output_type": "display_data"
    },
    {
     "name": "stdout",
     "output_type": "stream",
     "text": [
      "\n",
      "LLM response pour resumer: in 280s\n",
      "\n",
      "LLM response pour JSON: in 38s\n",
      "{\n",
      "  \"Nom Chantier\": \"Groupe scolaire Jean Zay - Saint Nazaire\",\n",
      "  \"Lieu du Chantier\": \"Ville de Saint Nazaire, Commune de Saint Nazaire, Département de la\n",
      "Loire-Atlantique, Rue [non spécifiée]\",\n",
      "  \"Maitre ouvrage\": \"SONADEV TERRITOIRES PUBLICS\",\n",
      "  \"Type de Travaux\": \"Construction d'un groupe scolaire, multi-accueil et plateau\n",
      "sportif\",\n",
      "  \"Planning phase conception\": {\n",
      "    \"Date prévisionnelle\": \"\",\n",
      "    \"Durée prévisionnelle\": \"\"\n",
      "  },\n",
      "  \"Planning phase réalisation\": {\n",
      "    \"Date prévisionnelle\": \"\",\n",
      "    \"Durée prévisionnelle\": \"\"\n",
      "  },\n",
      "  \"Prix des travaux\": \"en euros HT, non spécifié\",\n",
      "  \"Duree des travaux\": \"en nombre de mois, non spécifié\",\n",
      "  \"Categorie operation SPS\": \"I, II ou III\"\n",
      "}\n",
      "Doc type: AAPC\n"
     ]
    },
    {
     "data": {
      "text/html": [
       "<a href=\"file:///C:/Users/jch_m/ATAE/Cyrille CHARTIER - CYRILLE/00-DEVIS/2024/00-Echec 2024/ST NAZAIRE - SONADEV - CONSTRUCTION GROUPE SCOLAIRE/Consultation/AAPC.pdf\">C:\\Users\\jch_m\\ATAE\\Cyrille CHARTIER - CYRILLE\\00-DEVIS\\2024\\00-Echec 2024\\ST NAZAIRE - SONADEV - CONSTRUCTION GROUPE SCOLAIRE\\Consultation\\AAPC.pdf</a>"
      ],
      "text/plain": [
       "<IPython.core.display.HTML object>"
      ]
     },
     "metadata": {},
     "output_type": "display_data"
    },
    {
     "name": "stdout",
     "output_type": "stream",
     "text": [
      "\n",
      "LLM response pour resumer: in 37s\n",
      "\n",
      "LLM response pour JSON: in 11s\n",
      "{\n",
      "  \"Mission\": \"\",\n",
      "  \"Lieu du Chantier\": \"\",\n",
      "  \"Maitre ouvrage\": \"\",\n",
      "  \"Lot\": \"\",\n",
      "  \"Tranche\": \"\",\n",
      "  \"Prix des travaux\": 0,\n",
      "  \"Duree des travaux\": 0\n",
      "}\n",
      "Doc type: Reglement\n"
     ]
    },
    {
     "data": {
      "text/html": [
       "<a href=\"file:///C:/Users/jch_m/ATAE/Cyrille CHARTIER - CYRILLE/00-DEVIS/2024/00-Echec 2024/ST NAZAIRE - SONADEV - CONSTRUCTION GROUPE SCOLAIRE/Consultation/RC CSPS.pdf\">C:\\Users\\jch_m\\ATAE\\Cyrille CHARTIER - CYRILLE\\00-DEVIS\\2024\\00-Echec 2024\\ST NAZAIRE - SONADEV - CONSTRUCTION GROUPE SCOLAIRE\\Consultation\\RC CSPS.pdf</a>"
      ],
      "text/plain": [
       "<IPython.core.display.HTML object>"
      ]
     },
     "metadata": {},
     "output_type": "display_data"
    },
    {
     "name": "stdout",
     "output_type": "stream",
     "text": [
      "\n",
      "LLM response pour resumer: in 388s\n",
      "\n",
      "LLM response pour JSON: in 36s\n",
      "{\n",
      "  \"Critere Prix\": 0,\n",
      "  \"Critere Technique\": {\n",
      "    \"Moyen Humain et Experience\": 0,\n",
      "    \"Methodologie\": 0,\n",
      "    \"Cohérence du temps\": 0,\n",
      "    \"Compréhension des enjeux\": 0\n",
      "  },\n",
      "  \"Prix des travaux\": 30,\n",
      "  \"Duree des travaux\": 6\n",
      "}\n"
     ]
    }
   ],
   "source": [
    "# Teste plusieurs models sur l'enchaienement d'analyse de fichiers pour 1 EBP ID\n",
    "def test_models_for_1_ebp(list_model_to_test):\n",
    "    ebp_id_l = [\"no EBP 13\"] # impose ce projet \"no EBP 13\" => CCTP,CCAP, Regl  / #no EBP 9717\n",
    "    ebp_id = ebp_id_l[0]\n",
    "    list_consult_type = ['Lettre Consult', 'CCP', 'CCTP', 'CCAP', 'Planning', 'AAPC', 'Reglement']\n",
    "\n",
    "    #filtered_row = df_consult_ebp[df_consult_ebp['ID EBP'] == selected_ebp_id[0]].iloc[0]\n",
    "    #print(f\"\\n ***** ID:{selected_ebp_id} statut_consult: {filtered_row['statut_consult']} ****** \")\n",
    "    filtered_row = df_consult_ebp[df_consult_ebp['ID EBP'] == ebp_id].iloc[0]\n",
    "    print(f\"\\n ***** ID:{ebp_id} statut_consult: {filtered_row['statut_consult']} ***** \")\n",
    "    print(f\"Ville:{filtered_row['Ville']}  Entreprise:{filtered_row['Entreprise']}  Mission:{filtered_row['Mission']}\")\n",
    "    \n",
    "    for model_name in list_model_to_test:\n",
    "        print(f\" ===================== {model_name} ==========================\")\n",
    "        for doc_type in list_consult_type:\n",
    "            list_file_consult = df_consult_ebp[(df_consult_ebp['ID EBP'] == ebp_id) & (df_consult_ebp['AO_doc_type'] == doc_type)]['file_path']\n",
    "        \n",
    "            if not list_file_consult.empty:\n",
    "                print(\"Doc type:\",doc_type)\n",
    "                text_multi_files = \"\"\n",
    "                for file_path in list_file_consult:\n",
    "                    #nb_segment = file_path.split(\"\\\\\")\n",
    "                    #print(\"==> \", nb_segment[-1].strip())\n",
    "                    bid_utils.path_to_link(file_path.strip(), option=None)\n",
    "                    text_file = bid_utils.loadpdf_as_text(file_path.strip())\n",
    "                    text_multi_files += text_file + \"\\n\" # Contatenate text\n",
    "                \n",
    "                # Trim text to suppress long' '\n",
    "                text_input = re.sub(r'\\s+', ' ', text_multi_files).strip()\n",
    "                \n",
    "                # Run model for each doc type\n",
    "                if doc_type == \"CCTP\" or doc_type == \"CCP\" or doc_type == \"Lettre Consult\" or doc_type == \"Planning\" :\n",
    "                    json_result = run_model_CCTP(text_input, model_name)\n",
    "                    #bid_utils.update_df_with_json_cctp(json_result , ebp_id, df_consult_elevated)\n",
    "                    \n",
    "                if doc_type == \"Reglement\" or doc_type == \"Lettre Consult\":\n",
    "                    json_result = run_model_reglement(text_input, model_name)\n",
    "                    #bid_utils.update_df_with_json_regl(json_result , ebp_id, df_consult_elevated)\n",
    "                    \n",
    "                if doc_type == \"AAPC\" or doc_type == \"Planning\":\n",
    "                    json_result = run_model_aapc(text_input, model_name)\n",
    "                    #bid_utils.update_df_with_json_aapc(json_result , ebp_id, df_consult_elevated)\n",
    "                    \n",
    "                if doc_type == \"CCAP\" or doc_type == \"CCP\" or doc_type == \"Planning\":\n",
    "                    json_result = run_model_ccap(text_input, model_name)\n",
    "                    #bid_utils.update_df_with_json_ccap(json_result , ebp_id, df_consult_elevated)\n",
    "                    \n",
    "\n",
    "#list_model = [\"gemma3:4b\", \"gemma3:12b\", \"gemma2:9b\", \"llama3.1:8b\", \"llama3.2:latest\", \"qwen3:8b\"]\n",
    "list_model = [\"gemma2:9b\", \"llama3.1:8b\", \"llama3.2:latest\"]\n",
    "\n",
    "test_models_for_1_ebp(list_model)"
   ]
  }
 ],
 "metadata": {
  "kernelspec": {
   "display_name": ".bid_env",
   "language": "python",
   "name": "python3"
  },
  "language_info": {
   "codemirror_mode": {
    "name": "ipython",
    "version": 3
   },
   "file_extension": ".py",
   "mimetype": "text/x-python",
   "name": "python",
   "nbconvert_exporter": "python",
   "pygments_lexer": "ipython3",
   "version": "3.12.9"
  }
 },
 "nbformat": 4,
 "nbformat_minor": 5
}
