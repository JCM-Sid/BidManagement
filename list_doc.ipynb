{
 "cells": [
  {
   "cell_type": "code",
   "execution_count": null,
   "id": "2f10455d",
   "metadata": {},
   "outputs": [
    {
     "name": "stdout",
     "output_type": "stream",
     "text": [
      "Authentication successful!\n"
     ]
    }
   ],
   "source": [
    "from office365.sharepoint.client_context import ClientContext\n",
    "from office365.runtime.auth.authentication_context import AuthenticationContext # <--- Add this line\n",
    "import os\n",
    "\n"
   ]
  },
  {
   "cell_type": "code",
   "execution_count": null,
   "id": "bbef6f11",
   "metadata": {},
   "outputs": [
    {
     "name": "stdout",
     "output_type": "stream",
     "text": [
      "file  C:\\Users\\jch_m\\OneDrive\\config.json  opened succesfully\n"
     ]
    }
   ],
   "source": [
    "# test onedrive\n",
    "\n",
    "file_test_path = onedrive_root + '\\\\config.json'\n",
    "file_test = open(file_test_path, 'a')\n",
    "if file_test:\n",
    "    print(\"file \",file_test_path,\" opened succesfully\")\n",
    "    file_test.close()\n"
   ]
  },
  {
   "cell_type": "code",
   "execution_count": 18,
   "id": "d8dedce3",
   "metadata": {},
   "outputs": [
    {
     "name": "stdout",
     "output_type": "stream",
     "text": [
      "Authentication successful!\n"
     ]
    }
   ],
   "source": [
    "# test connextion 1\n",
    "\n",
    "sharepoint_url = r\"https://atae44-my.sharepoint.com/personal/bcoutzac_atae_fr/_layouts/15/onedrive.aspx?id=%2Fpersonal%2Fbcoutzac%5Fatae%5Ffr%2FDocuments%2FBARBARA%2FCommun%2FNote%20m%C3%A9thodo&ga=1\"\n",
    "\n",
    "ctx_auth = AuthenticationContext(sharepoint_url)\n",
    "ctx_auth.acquire_token_for_user(\"jcmonceau@atae.fr\", \"N(426963654493ob\")\n",
    "\n",
    "if ctx_auth.acquire_token_for_user(\"jcmonceau@atae.fr\", \"N(426963654493ob\"):\n",
    "    print(\"Authentication successful!\")\n",
    "    ctx = ClientContext(sharepoint_url, ctx_auth)\n",
    "    doc_library = ctx.web.lists.get_by_title(\"Documents\") # Assuming \"Documents\" is the library name\n",
    "    folder = doc_library.root_folder.folders.get_by_url(\"BARBARA/Commun/Note%20m%C3%A9thodo\") # Adjust path\n",
    "    ctx.load(folder)\n",
    "    \n",
    "\n",
    "    files = folder.files\n",
    "    ctx.load(files)\n",
    "\n",
    "\n",
    "    for file in files:\n",
    "        print(f\"File Name: {file.name}, URL: {file.serverRelativeUrl}\")\n",
    "else:\n",
    "    print(\"Failed to authenticate\")"
   ]
  },
  {
   "cell_type": "code",
   "execution_count": 19,
   "id": "98dd6e9a",
   "metadata": {},
   "outputs": [
    {
     "name": "stdout",
     "output_type": "stream",
     "text": [
      "Authentication successful!\n",
      "No files found in 'https://atae44-my.sharepoint.com/personal/bcoutzac_atae_fr/_layouts/15/onedrive.aspx?id=%2Fpersonal%2Fbcoutzac%5Fatae%5Ffr%2FDocuments%2FBARBARA%2FCommun%2FNote%20m%C3%A9thodo&ga=1'.\n"
     ]
    }
   ],
   "source": [
    "from office365.sharepoint.client_context import ClientContext\n",
    "from office365.runtime.auth.authentication_context import AuthenticationContext\n",
    "\n",
    "# test connextion 2\n",
    "\n",
    "base_site_url = \"https://atae44-my.sharepoint.com/personal/bcoutzac_atae_fr/_layouts/15/onedrive.aspx?id=%2Fpersonal%2Fbcoutzac%5Fatae%5Ffr%2FDocuments%2FBARBARA%2FCommun%2FNote%20m%C3%A9thodo&ga=1\"\n",
    "\n",
    "# Use the base_site_url for AuthenticationContext\n",
    "ctx_auth = AuthenticationContext(base_site_url) # <--- CHANGE MADE HERE\n",
    "\n",
    "if ctx_auth.acquire_token_for_user(\"jcmonceau@atae.fr\", \"N(426963654493ob\"):\n",
    "    print(\"Authentication successful!\")\n",
    "\n",
    "    # ClientContext uses the same base_site_url\n",
    "    ctx = ClientContext(base_site_url, ctx_auth)\n",
    "\n",
    "    # The actual folder path within the 'Documents' library\n",
    "    # Note: Using unencoded path for get_by_url is usually fine, library handles it.\n",
    "    folder_relative_path_in_documents_library = \"https://atae44-my.sharepoint.com/personal/bcoutzac_atae_fr/_layouts/15/onedrive.aspx?id=%2Fpersonal%2Fbcoutzac%5Fatae%5Ffr%2FDocuments%2FBARBARA%2FCommun%2FNote%20m%C3%A9thodo&ga=1\"\n",
    "\n",
    "    # Get the default document library\n",
    "    doc_library = ctx.web.lists.get_by_title(\"Documents\")\n",
    "    ctx.load(doc_library)\n",
    "    \n",
    "\n",
    "    # Now get the specific folder within that document library\n",
    "    folder = doc_library.root_folder.folders.get_by_url(folder_relative_path_in_documents_library)\n",
    "    ctx.load(folder)\n",
    "    \n",
    "    files = folder.files\n",
    "    ctx.load(files)\n",
    "    \n",
    "\n",
    "    if files:\n",
    "        print(f\"Files in '{folder_relative_path_in_documents_library}':\")\n",
    "        for file in files:\n",
    "            print(f\"  - Name: {file.name}, URL: {file.serverRelativeUrl}\")\n",
    "    else:\n",
    "        print(f\"No files found in '{folder_relative_path_in_documents_library}'.\")\n",
    "\n",
    "else:\n",
    "    print(\"Authentication failed! Please check your username/password and tenant's authentication policies.\")\n",
    "    # For more detailed error, sometimes the library might expose ctx_auth.last_error or similar,\n",
    "    # but for AADSTS errors, it's often an external factor."
   ]
  },
  {
   "cell_type": "code",
   "execution_count": 20,
   "id": "b88bc8e8",
   "metadata": {},
   "outputs": [
    {
     "name": "stdout",
     "output_type": "stream",
     "text": [
      "Authentication successful!\n",
      "No files found in 'Attachments'.\n"
     ]
    }
   ],
   "source": [
    "from office365.sharepoint.client_context import ClientContext\n",
    "from office365.runtime.auth.authentication_context import AuthenticationContext\n",
    "\n",
    "# test connextion 3\n",
    "\n",
    "# This is the correct base URL for your personal SharePoint site collection.\n",
    "base_site_url = \"https://centralesupelec-my.sharepoint.com/my?id=%2Fpersonal%2Fjean%2Dcharles%5Fmonceau%5Fstudent%2Dcs%5Ffr%2FDocuments%2FAttachments&login_hint=jean%2Dcharles%2Emonceau%40student%2Dcs%2Efr&source=waffle\"\n",
    "\n",
    "# Use the base_site_url for AuthenticationContext\n",
    "ctx_auth = AuthenticationContext(base_site_url) # <--- CHANGE MADE HERE\n",
    "\n",
    "if ctx_auth.acquire_token_for_user(\"jean-charles.monceau@student-cs.fr\", \"Jchm1107IA!\"):\n",
    "    print(\"Authentication successful!\")\n",
    "\n",
    "    # ClientContext uses the same base_site_url\n",
    "    ctx = ClientContext(base_site_url, ctx_auth)\n",
    "\n",
    "    # The actual folder path within the 'Documents' library\n",
    "    # Note: Using unencoded path for get_by_url is usually fine, library handles it.\n",
    "    folder_relative_path_in_documents_library = \"Attachments\"\n",
    "\n",
    "    # Get the default document library\n",
    "    doc_library = ctx.web.lists.get_by_title(\"Documents\")\n",
    "    ctx.load(doc_library)\n",
    " \n",
    "\n",
    "    # Now get the specific folder within that document library\n",
    "    folder = doc_library.root_folder.folders.get_by_url(folder_relative_path_in_documents_library)\n",
    "    ctx.load(folder)\n",
    "    \n",
    "    files = folder.files\n",
    "    ctx.load(files)\n",
    "    \n",
    "    if files:\n",
    "        print(f\"Files in '{folder_relative_path_in_documents_library}':\")\n",
    "        for file in files:\n",
    "            print(f\"  - Name: {file.name}, URL: {file.serverRelativeUrl}\")\n",
    "    else:\n",
    "        print(f\"No files found in '{folder_relative_path_in_documents_library}'.\")\n",
    "\n",
    "else:\n",
    "    print(\"Authentication failed! Please check your username/password and tenant's authentication policies.\")\n",
    "    # For more detailed error, sometimes the library might expose ctx_auth.last_error or similar,\n",
    "    # but for AADSTS errors, it's often an external factor."
   ]
  }
 ],
 "metadata": {
  "kernelspec": {
   "display_name": ".bid_env",
   "language": "python",
   "name": "python3"
  },
  "language_info": {
   "codemirror_mode": {
    "name": "ipython",
    "version": 3
   },
   "file_extension": ".py",
   "mimetype": "text/x-python",
   "name": "python",
   "nbconvert_exporter": "python",
   "pygments_lexer": "ipython3",
   "version": "3.12.9"
  }
 },
 "nbformat": 4,
 "nbformat_minor": 5
}
