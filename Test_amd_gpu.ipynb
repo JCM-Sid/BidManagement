{
 "cells": [
  {
   "cell_type": "code",
   "execution_count": null,
   "id": "b5ba90c6",
   "metadata": {},
   "outputs": [
    {
     "name": "stderr",
     "output_type": "stream",
     "text": [
      "c:\\DocPerso\\Dev_Python\\.my_env\\Lib\\site-packages\\pytools\\persistent_dict.py:52: RecommendedHashNotFoundWarning: Unable to import recommended hash 'siphash24.siphash13', falling back to 'hashlib.sha256'. Run 'python3 -m pip install siphash24' to install the recommended hash.\n",
      "  warn(\"Unable to import recommended hash 'siphash24.siphash13', \"\n"
     ]
    },
    {
     "name": "stdout",
     "output_type": "stream",
     "text": [
      "Error:\n",
      "[0. 0. 0. ... 0. 0. 0.]\n",
      "Norm: 0.0000000000000000e+00\n"
     ]
    },
    {
     "name": "stderr",
     "output_type": "stream",
     "text": [
      "c:\\DocPerso\\Dev_Python\\.my_env\\Lib\\site-packages\\pyopencl\\cache.py:420: CompilerWarning: Non-empty compiler output encountered. Set the environment variable PYOPENCL_COMPILER_OUTPUT=1 to see more.\n",
      "  prg.build(options_bytes, [devices[i] for i in to_be_built_indices])\n"
     ]
    }
   ],
   "source": [
    "import numpy as np\n",
    "import pyopencl as cl\n",
    "\n",
    "rng = np.random.default_rng()\n",
    "a_np = rng.random(50000, dtype=np.float32)\n",
    "b_np = rng.random(50000, dtype=np.float32)\n",
    "\n",
    "ctx = cl.create_some_context()\n",
    "queue = cl.CommandQueue(ctx)\n",
    "\n",
    "mf = cl.mem_flags\n",
    "a_g = cl.Buffer(ctx, mf.READ_ONLY | mf.COPY_HOST_PTR, hostbuf=a_np)\n",
    "b_g = cl.Buffer(ctx, mf.READ_ONLY | mf.COPY_HOST_PTR, hostbuf=b_np)\n",
    "\n",
    "prg = cl.Program(ctx, \"\"\"\n",
    "__kernel void sum(\n",
    "    __global const float *a_g, __global const float *b_g, __global float *res_g)\n",
    "{\n",
    "  int gid = get_global_id(0);\n",
    "  res_g[gid] = a_g[gid] + b_g[gid];\n",
    "}\n",
    "\"\"\").build()\n",
    "\n",
    "res_g = cl.Buffer(ctx, mf.WRITE_ONLY, a_np.nbytes)\n",
    "knl = prg.sum  # Use this Kernel object for repeated calls\n",
    "knl(queue, a_np.shape, None, a_g, b_g, res_g)\n",
    "\n",
    "res_np = np.empty_like(a_np)\n",
    "cl.enqueue_copy(queue, res_np, res_g)\n",
    "\n",
    "# Check on CPU with Numpy:\n",
    "error_np = res_np - (a_np + b_np)\n",
    "print(f\"Error:\\n{error_np}\")\n",
    "print(f\"Norm: {np.linalg.norm(error_np):.16e}\")\n",
    "assert np.allclose(res_np, a_np + b_np)"
   ]
  },
  {
   "cell_type": "code",
   "execution_count": 5,
   "id": "b28ef6a0",
   "metadata": {},
   "outputs": [
    {
     "name": "stdout",
     "output_type": "stream",
     "text": [
      "<pyopencl.Platform 'AMD Accelerated Parallel Processing' at 0x7ff9de3c3000>\n",
      "Selected device: gfx1103\n",
      "Device type: ALL | GPU [<pyopencl.Device 'gfx1103' on 'AMD Accelerated Parallel Processing' at 0x1cb56296860>] <pyopencl._cl.CommandQueue object at 0x000001CB57179FD0>\n"
     ]
    }
   ],
   "source": [
    "import pyopencl as cl\n",
    "for platform in cl.get_platforms():\n",
    "    print(platform)\n",
    "\n",
    "platform = cl.get_platforms()[0]  # Adjust index based on your AMD platform\n",
    "device = platform.get_devices()[0]  # Select the first device\n",
    "context = cl.Context([device])\n",
    "queue = cl.CommandQueue(context)\n",
    "print(\"Selected device:\", device.name)\n",
    "print(\"Device type:\", cl.device_type.to_string(device.type), context.devices, queue )"
   ]
  }
 ],
 "metadata": {
  "kernelspec": {
   "display_name": ".my_env",
   "language": "python",
   "name": "python3"
  },
  "language_info": {
   "codemirror_mode": {
    "name": "ipython",
    "version": 3
   },
   "file_extension": ".py",
   "mimetype": "text/x-python",
   "name": "python",
   "nbconvert_exporter": "python",
   "pygments_lexer": "ipython3",
   "version": "3.13.3"
  }
 },
 "nbformat": 4,
 "nbformat_minor": 5
}
